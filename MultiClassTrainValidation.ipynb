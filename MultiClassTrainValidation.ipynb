{
 "cells": [
  {
   "cell_type": "markdown",
   "metadata": {},
   "source": [
    "# Import all the Lib. and Packages"
   ]
  },
  {
   "cell_type": "code",
   "execution_count": 13,
   "metadata": {},
   "outputs": [
    {
     "data": {
      "text/plain": [
       "'/device:GPU:0'"
      ]
     },
     "execution_count": 13,
     "metadata": {},
     "output_type": "execute_result"
    }
   ],
   "source": [
    "from keras.preprocessing.image import ImageDataGenerator\n",
    "from keras.preprocessing import image\n",
    "from keras.models import Sequential, load_model, Model\n",
    "from keras.layers import Activation, Dropout, Flatten, Dense, GlobalAveragePooling2D\n",
    "from keras.optimizers import SGD\n",
    "from keras.callbacks import EarlyStopping\n",
    "from keras.callbacks import ModelCheckpoint\n",
    "from keras.models import model_from_yaml\n",
    "import keras\n",
    "from keras.layers.normalization import BatchNormalization\n",
    "from keras.callbacks import TensorBoard\n",
    "from keras import backend as K\n",
    "from keras.applications.vgg16 import VGG16, preprocess_input\n",
    "from keras.applications.vgg16 import preprocess_input, decode_predictions\n",
    "from datetime import datetime\n",
    "from collections import Counter\n",
    "import os\n",
    "import numpy as np\n",
    "import pandas as pd\n",
    "import tensorflow as tf\n",
    "tf.test.gpu_device_name()"
   ]
  },
  {
   "cell_type": "code",
   "execution_count": 14,
   "metadata": {
    "collapsed": true
   },
   "outputs": [],
   "source": [
    "# You need to have these three folders each with two subfolders for the two classes.\n",
    "PATH = os.getcwd()\n",
    "train_data_dir =PATH+ '/data/train'\n",
    "validation_data_dir = PATH+'/data/val'\n",
    "\n",
    "\n",
    "img_width = 224  # Change image size for training here\n",
    "img_height = 224 # Change image size for training here\n",
    "\n",
    "batch_size = 5 # i achieved good and fast results with this small minibatch size for training\n",
    "batch_size_val = 5 # if Tensorflow throws a memory error while validating at end of epoch, decrease validation batch size her"
   ]
  },
  {
   "cell_type": "code",
   "execution_count": 15,
   "metadata": {},
   "outputs": [
    {
     "name": "stdout",
     "output_type": "stream",
     "text": [
      "_________________________________________________________________\n",
      "Layer (type)                 Output Shape              Param #   \n",
      "=================================================================\n",
      "input_3 (InputLayer)         (None, 224, 224, 3)       0         \n",
      "_________________________________________________________________\n",
      "block1_conv1 (Conv2D)        (None, 224, 224, 64)      1792      \n",
      "_________________________________________________________________\n",
      "block1_conv2 (Conv2D)        (None, 224, 224, 64)      36928     \n",
      "_________________________________________________________________\n",
      "block1_pool (MaxPooling2D)   (None, 112, 112, 64)      0         \n",
      "_________________________________________________________________\n",
      "block2_conv1 (Conv2D)        (None, 112, 112, 128)     73856     \n",
      "_________________________________________________________________\n",
      "block2_conv2 (Conv2D)        (None, 112, 112, 128)     147584    \n",
      "_________________________________________________________________\n",
      "block2_pool (MaxPooling2D)   (None, 56, 56, 128)       0         \n",
      "_________________________________________________________________\n",
      "block3_conv1 (Conv2D)        (None, 56, 56, 256)       295168    \n",
      "_________________________________________________________________\n",
      "block3_conv2 (Conv2D)        (None, 56, 56, 256)       590080    \n",
      "_________________________________________________________________\n",
      "block3_conv3 (Conv2D)        (None, 56, 56, 256)       590080    \n",
      "_________________________________________________________________\n",
      "block3_pool (MaxPooling2D)   (None, 28, 28, 256)       0         \n",
      "_________________________________________________________________\n",
      "block4_conv1 (Conv2D)        (None, 28, 28, 512)       1180160   \n",
      "_________________________________________________________________\n",
      "block4_conv2 (Conv2D)        (None, 28, 28, 512)       2359808   \n",
      "_________________________________________________________________\n",
      "block4_conv3 (Conv2D)        (None, 28, 28, 512)       2359808   \n",
      "_________________________________________________________________\n",
      "block4_pool (MaxPooling2D)   (None, 14, 14, 512)       0         \n",
      "_________________________________________________________________\n",
      "block5_conv1 (Conv2D)        (None, 14, 14, 512)       2359808   \n",
      "_________________________________________________________________\n",
      "block5_conv2 (Conv2D)        (None, 14, 14, 512)       2359808   \n",
      "_________________________________________________________________\n",
      "block5_conv3 (Conv2D)        (None, 14, 14, 512)       2359808   \n",
      "_________________________________________________________________\n",
      "global_average_pooling2d_3 ( (None, 512)               0         \n",
      "_________________________________________________________________\n",
      "dense_9 (Dense)              (None, 4096)              2101248   \n",
      "_________________________________________________________________\n",
      "batch_normalization_7 (Batch (None, 4096)              16384     \n",
      "_________________________________________________________________\n",
      "dropout_7 (Dropout)          (None, 4096)              0         \n",
      "_________________________________________________________________\n",
      "dense_10 (Dense)             (None, 1024)              4195328   \n",
      "_________________________________________________________________\n",
      "batch_normalization_8 (Batch (None, 1024)              4096      \n",
      "_________________________________________________________________\n",
      "dropout_8 (Dropout)          (None, 1024)              0         \n",
      "_________________________________________________________________\n",
      "dense_11 (Dense)             (None, 256)               262400    \n",
      "_________________________________________________________________\n",
      "batch_normalization_9 (Batch (None, 256)               1024      \n",
      "_________________________________________________________________\n",
      "dropout_9 (Dropout)          (None, 256)               0         \n",
      "_________________________________________________________________\n",
      "dense_12 (Dense)             (None, 3)                 771       \n",
      "=================================================================\n",
      "Total params: 21,295,939\n",
      "Trainable params: 13,649,923\n",
      "Non-trainable params: 7,646,016\n",
      "_________________________________________________________________\n",
      "0 input_3\n",
      "1 block1_conv1\n",
      "2 block1_conv2\n",
      "3 block1_pool\n",
      "4 block2_conv1\n",
      "5 block2_conv2\n",
      "6 block2_pool\n",
      "7 block3_conv1\n",
      "8 block3_conv2\n",
      "9 block3_conv3\n",
      "10 block3_pool\n",
      "11 block4_conv1\n",
      "12 block4_conv2\n",
      "13 block4_conv3\n",
      "14 block4_pool\n",
      "15 block5_conv1\n",
      "16 block5_conv2\n",
      "17 block5_conv3\n",
      "18 global_average_pooling2d_3\n",
      "19 dense_9\n",
      "20 batch_normalization_7\n",
      "21 dropout_7\n",
      "22 dense_10\n",
      "23 batch_normalization_8\n",
      "24 dropout_8\n",
      "25 dense_11\n",
      "26 batch_normalization_9\n",
      "27 dropout_9\n",
      "28 dense_12\n"
     ]
    }
   ],
   "source": [
    "# Create the model with the VGG16\n",
    "\n",
    "vgg16 = VGG16(weights='imagenet', include_top=False,input_shape=(224, 224, 3))\n",
    "\n",
    "x = vgg16.get_layer('block5_conv3').output\n",
    "x = GlobalAveragePooling2D()(x)\n",
    "x = Dense(4096, activation='relu')(x)\n",
    "x = BatchNormalization()(x)\n",
    "x = Dropout(0.5)(x)\n",
    "x = Dense(1024, activation='relu')(x)\n",
    "x = BatchNormalization()(x)\n",
    "x = Dropout(0.5)(x)\n",
    "x = Dense(256, activation='relu')(x)\n",
    "x = BatchNormalization()(x)\n",
    "x = Dropout(0.5)(x)\n",
    "x = Dense(3, activation='softmax')(x)\n",
    "\n",
    "modelFinal = Model(inputs=vgg16.input, outputs=x)\n",
    "\n",
    "for layer in modelFinal.layers[:15]:\n",
    "    layer.trainable = False\n",
    "for layer in modelFinal.layers[15:]:\n",
    "    layer.trainable = True\n",
    "\n",
    "# for layer in vgg16.layers:\n",
    "#     layer.trainable = False\n",
    "\n",
    "modelFinal.summary()\n",
    "\n",
    "opt=keras.optimizers.SGD(lr=0.01, momentum=0.9, decay=0.000001, nesterov=False)\n",
    "\n",
    "modelFinal.compile(optimizer=opt, loss='categorical_crossentropy', metrics=['accuracy'])\n",
    "\n",
    "for i, layer in enumerate(modelFinal.layers):\n",
    "   print(i, layer.name)\n"
   ]
  },
  {
   "cell_type": "code",
   "execution_count": 16,
   "metadata": {},
   "outputs": [
    {
     "name": "stdout",
     "output_type": "stream",
     "text": [
      "Found 2000 images belonging to 3 classes.\n",
      "Found 150 images belonging to 3 classes.\n"
     ]
    }
   ],
   "source": [
    "# set data augmentation parameters here\n",
    "datagen = ImageDataGenerator(\n",
    "    preprocessing_function=preprocess_input,\n",
    "    rotation_range=70,\n",
    "    width_shift_range=.3,\n",
    "    height_shift_range=.1,\n",
    "    shear_range=0.2,\n",
    "    zoom_range=0.2,\n",
    "    horizontal_flip=True,\n",
    "    vertical_flip=False,\n",
    "    fill_mode=\"nearest\")\n",
    "\n",
    "# normalization neccessary for correct image input to VGG16\n",
    "# datagen.mean=np.array([103.939, 116.779, 123.68],dtype=np.float32).reshape(1,1,3)\n",
    "\n",
    "# no data augmentation for validation and test set\n",
    "validgen = ImageDataGenerator(preprocessing_function=preprocess_input)\n",
    "\n",
    "# validgen.mean=np.array([103.939, 116.779, 123.68],dtype=np.float32).reshape(1,1,3)\n",
    "\n",
    "train_gen = datagen.flow_from_directory(\n",
    "        train_data_dir,\n",
    "        target_size=(img_height, img_width),\n",
    "        batch_size=batch_size,\n",
    "        class_mode=\"categorical\",\n",
    "        shuffle=True, \n",
    "        #save_to_dir=\"_augmented_images/\", \n",
    "        #save_prefix=\"aug_\"\n",
    "        )\n",
    "\n",
    "val_gen = validgen.flow_from_directory(\n",
    "        validation_data_dir,\n",
    "        target_size=(img_height, img_width),\n",
    "        batch_size=batch_size_val,\n",
    "        class_mode=\"categorical\",\n",
    "        shuffle=True)"
   ]
  },
  {
   "cell_type": "code",
   "execution_count": 17,
   "metadata": {},
   "outputs": [
    {
     "name": "stdout",
     "output_type": "stream",
     "text": [
      "{0: 1.0, 1: 5.4, 2: 3.67}\n",
      "{'00_nev': 0, '01_seb': 1, '03_Mel': 2}\n"
     ]
    }
   ],
   "source": [
    "def get_class_weights(y):\n",
    "    counter = Counter(y)\n",
    "    majority = max(counter.values())\n",
    "    return  {cls: round(float(majority)/float(count), 2) for cls, count in counter.items()}\n",
    "\n",
    "class_weights = get_class_weights(train_gen.classes)\n",
    "print(class_weights)\n",
    "print(train_gen.class_indices)\n"
   ]
  },
  {
   "cell_type": "code",
   "execution_count": 18,
   "metadata": {},
   "outputs": [
    {
     "name": "stdout",
     "output_type": "stream",
     "text": [
      "Epoch 1/50\n",
      "400/400 [==============================] - 222s 555ms/step - loss: 2.8726 - acc: 0.5270 - val_loss: 2.6280 - val_acc: 0.4600\n",
      "\n",
      "Epoch 00001: val_acc improved from -inf to 0.46000, saving model to VGG19Inter.hdf5\n",
      "Epoch 2/50\n",
      "400/400 [==============================] - 212s 529ms/step - loss: 1.7111 - acc: 0.5610 - val_loss: 1.3465 - val_acc: 0.4800\n",
      "\n",
      "Epoch 00002: val_acc improved from 0.46000 to 0.48000, saving model to VGG19Inter.hdf5\n",
      "Epoch 3/50\n",
      "400/400 [==============================] - 211s 528ms/step - loss: 1.1220 - acc: 0.6050 - val_loss: 1.0533 - val_acc: 0.5267\n",
      "\n",
      "Epoch 00003: val_acc improved from 0.48000 to 0.52667, saving model to VGG19Inter.hdf5\n",
      "Epoch 4/50\n",
      "400/400 [==============================] - 210s 525ms/step - loss: 0.9348 - acc: 0.6660 - val_loss: 1.0623 - val_acc: 0.5200\n",
      "\n",
      "Epoch 00004: val_acc did not improve from 0.52667\n",
      "Epoch 5/50\n",
      "400/400 [==============================] - 209s 523ms/step - loss: 0.8814 - acc: 0.6780 - val_loss: 1.1352 - val_acc: 0.5200\n",
      "\n",
      "Epoch 00005: val_acc did not improve from 0.52667\n",
      "Epoch 6/50\n",
      "400/400 [==============================] - 214s 536ms/step - loss: 0.8562 - acc: 0.6840 - val_loss: 1.0788 - val_acc: 0.5200\n",
      "\n",
      "Epoch 00006: val_acc did not improve from 0.52667\n",
      "Epoch 7/50\n",
      "400/400 [==============================] - 211s 527ms/step - loss: 0.8523 - acc: 0.6840 - val_loss: 1.1686 - val_acc: 0.5200\n",
      "\n",
      "Epoch 00007: val_acc did not improve from 0.52667\n",
      "Epoch 8/50\n",
      "400/400 [==============================] - 212s 529ms/step - loss: 0.8470 - acc: 0.6860 - val_loss: 1.0826 - val_acc: 0.5200\n",
      "\n",
      "Epoch 00008: val_acc did not improve from 0.52667\n",
      "Epoch 00008: early stopping\n"
     ]
    },
    {
     "data": {
      "text/plain": [
       "<keras.callbacks.History at 0x216f570f978>"
      ]
     },
     "execution_count": 18,
     "metadata": {},
     "output_type": "execute_result"
    }
   ],
   "source": [
    "epochs=50\n",
    "train_samples = len(train_gen.filenames)\n",
    "validation_samples = len(val_gen.filenames)\n",
    "\n",
    "# I stopped training automagically with EarlyStopping after 3 consecutive epochs without improvement\n",
    "early_stopping = EarlyStopping(monitor='val_loss', patience=5, verbose=1, mode='auto')\n",
    "\n",
    "Intermediate_model='VGG19Inter'\n",
    "Intermediate_SaveweightName= Intermediate_model+'.hdf5'\n",
    "Intermediate_SaveModelName=Intermediate_model+'.yaml'\n",
    "\n",
    "checkpoint_Intermediate = ModelCheckpoint(Intermediate_SaveweightName, monitor='val_acc', verbose=1, save_best_only=True, mode='max')\n",
    "\n",
    "model_yaml = modelFinal.to_yaml()\n",
    "with open(Intermediate_SaveModelName, \"w\") as yaml_file:\n",
    "    yaml_file.write(model_yaml)\n",
    "    \n",
    "modelFinal.fit_generator(train_gen, epochs=epochs, \n",
    "                          steps_per_epoch=int(train_samples/batch_size), \n",
    "                          validation_data=val_gen, \n",
    "                          validation_steps=int(validation_samples/batch_size_val),\n",
    "                          verbose=1, callbacks=[early_stopping,checkpoint_Intermediate])"
   ]
  },
  {
   "cell_type": "code",
   "execution_count": null,
   "metadata": {
    "collapsed": true
   },
   "outputs": [],
   "source": []
  }
 ],
 "metadata": {
  "kernelspec": {
   "display_name": "Python 3",
   "language": "python",
   "name": "python3"
  },
  "language_info": {
   "codemirror_mode": {
    "name": "ipython",
    "version": 3
   },
   "file_extension": ".py",
   "mimetype": "text/x-python",
   "name": "python",
   "nbconvert_exporter": "python",
   "pygments_lexer": "ipython3",
   "version": "3.6.3"
  }
 },
 "nbformat": 4,
 "nbformat_minor": 2
}
